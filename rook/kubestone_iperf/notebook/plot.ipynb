{
 "cells": [
  {
   "cell_type": "code",
   "execution_count": 5,
   "metadata": {},
   "outputs": [],
   "source": [
    "import os\n",
    "import json\n",
    "import matplotlib.pyplot as plt"
   ]
  },
  {
   "cell_type": "code",
   "execution_count": 6,
   "metadata": {},
   "outputs": [
    {
     "name": "stderr",
     "output_type": "stream",
     "text": [
      "No handles with labels found to put in legend.\n"
     ]
    },
    {
     "data": {
      "image/png": "[encoded data removed]",
      "text/plain": [
       "<Figure size 432x288 with 1 Axes>"
      ]
     },
     "metadata": {
      "needs_background": "light"
     },
     "output_type": "display_data"
    }
   ],
   "source": [
    "results_dir = '../results'\n",
    "files = os.listdir(results_dir)\n",
    "\n",
    "# iterate over each result file and plot the results\n",
    "for file in files:\n",
    "    if not file.endswith('.json'): continue\n",
    "    with open(os.path.join(results_dir, file)) as f:\n",
    "        results = json.load(f)\n",
    "\n",
    "    seconds = []\n",
    "    bandwidth = []\n",
    "\n",
    "    for run in results[\"intervals\"]:\n",
    "        seconds.append(float(run[\"sum\"][\"end\"]))\n",
    "        bandwidth.append(float(run[\"sum\"][\"bits_per_second\"])/(1000*1000*1000))\n",
    "\n",
    "    plt.plot(seconds, bandwidth, markersize=10, linewidth=3.0, label=f\"{os.environ['SERVER']} and {file[:-5]}\")\n",
    "    \n",
    "\n",
    "# pin the range between 0 and 10\n",
    "plt.ylim(0.0, 10.0)\n",
    "plt.xlabel('Time (in seconds)')\n",
    "plt.ylabel('Bandwidth (Gb/s)')\n",
    "plt.title('IPERF3 Benchmarks')\n",
    "plt.legend()\n",
    "plt.savefig(os.path.join(results_dir, './iperf-benchmarks.png'), dpi=300, bbox_inches='tight')\n",
    "plt.show()"
   ]
  },
  {
   "cell_type": "code",
   "execution_count": null,
   "metadata": {},
   "outputs": [],
   "source": []
  }
 ],
 "metadata": {
  "kernelspec": {
   "display_name": "Python 3",
   "language": "python",
   "name": "python3"
  },
  "language_info": {
   "codemirror_mode": {
    "name": "ipython",
    "version": 3
   },
   "file_extension": ".py",
   "mimetype": "text/x-python",
   "name": "python",
   "nbconvert_exporter": "python",
   "pygments_lexer": "ipython3",
   "version": "3.7.6"
  }
 },
 "nbformat": 4,
 "nbformat_minor": 4
}
