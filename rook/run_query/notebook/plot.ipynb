{
 "cells": [
  {
   "cell_type": "code",
   "execution_count": 1,
   "metadata": {
    "colab": {},
    "colab_type": "code",
    "id": "eyRxMLZ5o0Rb"
   },
   "outputs": [],
   "source": [
    "import json\n",
    "import os\n",
    "import datetime\n",
    "\n",
    "# add datascience libraries\n",
    "import numpy as np\n",
    "import pandas as pd\n",
    "import seaborn as sns\n",
    "import matplotlib.pyplot as plt"
   ]
  },
  {
   "cell_type": "code",
   "execution_count": 2,
   "metadata": {
    "colab": {},
    "colab_type": "code",
    "id": "lbgXqQLZpAhR"
   },
   "outputs": [],
   "source": [
    "sns.set(style=\"whitegrid\")\n",
    "results_dir = '../results'\n",
    "results_arr = []"
   ]
  },
  {
   "cell_type": "code",
   "execution_count": 3,
   "metadata": {
    "colab": {},
    "colab_type": "code",
    "id": "5kI8OZunpE4i"
   },
   "outputs": [],
   "source": [
    "with open(os.path.join(results_dir, 'result.json')) as f:\n",
    "  # load the data\n",
    "  data = json.loads(f.read())\n",
    "  client_side_data = data[\"lineitem\"][\"fbx\"]\n",
    "    \n",
    "  # prepare the numpy array\n",
    "  for key, value in client_side_data.items():\n",
    "    points = value.split(\",\")\n",
    "    for point in points:\n",
    "      results_arr.append([key, point, 'client'])"
   ]
  },
  {
   "cell_type": "code",
   "execution_count": 4,
   "metadata": {
    "colab": {},
    "colab_type": "code",
    "id": "83C9cNRm-Afq"
   },
   "outputs": [],
   "source": [
    "with open(os.path.join(results_dir, 'result.json')) as f:\n",
    "  # load the data\n",
    "  data = json.loads(f.read())\n",
    "  storage_side_data = data[\"lineitem\"][\"fbx_cls\"]\n",
    "    \n",
    "  # prepare the numpy array\n",
    "  for key, value in storage_side_data.items():\n",
    "    points = value.split(\",\")\n",
    "    for point in points:\n",
    "      results_arr.append([key, point, 'storage'])"
   ]
  },
  {
   "cell_type": "code",
   "execution_count": 5,
   "metadata": {},
   "outputs": [],
   "source": [
    "# convert to dataframes\n",
    "df = pd.DataFrame(np.array(results_arr), columns=['selectivity', 'duration', 'side'])\n",
    "df[['duration']] = df[['duration']].apply(pd.to_numeric)"
   ]
  },
  {
   "cell_type": "code",
   "execution_count": 6,
   "metadata": {
    "colab": {
     "base_uri": "https://localhost:8080/",
     "height": 285
    },
    "colab_type": "code",
    "id": "zcgmBmbl-PRa",
    "outputId": "62e985c1-a730-4d34-f4fa-466bf03adfa2"
   },
   "outputs": [
    {
     "data": {
      "image/png": "[encoded data removed]",
      "text/plain": [
       "<Figure size 432x288 with 1 Axes>"
      ]
     },
     "metadata": {},
     "output_type": "display_data"
    }
   ],
   "source": [
    "# plot for storage side\n",
    "ax = sns.barplot(x=\"selectivity\", y=\"duration\", hue=\"side\", data=df)\n",
    "ax.figure.savefig(os.path.join(results_dir, \"plot.png\"), dpi=200)\n",
    "ax.figure.show()"
   ]
  },
  {
   "cell_type": "code",
   "execution_count": null,
   "metadata": {},
   "outputs": [],
   "source": []
  }
 ],
 "metadata": {
  "colab": {
   "collapsed_sections": [],
   "name": "plot.nbconvert.ipynb",
   "provenance": []
  },
  "kernelspec": {
   "display_name": "Python 3",
   "language": "python",
   "name": "python3"
  },
  "language_info": {
   "codemirror_mode": {
    "name": "ipython",
    "version": 3
   },
   "file_extension": ".py",
   "mimetype": "text/x-python",
   "name": "python",
   "nbconvert_exporter": "python",
   "pygments_lexer": "ipython3",
   "version": "3.8.5"
  }
 },
 "nbformat": 4,
 "nbformat_minor": 4
}
