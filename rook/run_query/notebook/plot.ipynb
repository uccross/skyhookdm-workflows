{
  "nbformat": 4,
  "nbformat_minor": 0,
  "metadata": {
    "colab": {
      "name": "plot.nbconvert.ipynb",
      "provenance": [],
      "collapsed_sections": []
    },
    "kernelspec": {
      "display_name": "Python 3",
      "name": "python3"
    },
    "language_info": {
      "codemirror_mode": {
        "name": "ipython",
        "version": 3
      },
      "file_extension": ".py",
      "mimetype": "text/x-python",
      "name": "python",
      "nbconvert_exporter": "python",
      "pygments_lexer": "ipython3",
      "version": "3.8.5"
    }
  },
  "cells": [
    {
      "cell_type": "code",
      "metadata": {
        "colab_type": "code",
        "id": "eyRxMLZ5o0Rb",
        "colab": {}
      },
      "source": [
        "import json\n",
        "import os\n",
        "import datetime\n",
        "\n",
        "# add datascience libraries\n",
        "import numpy as np\n",
        "import pandas as pd\n",
        "import seaborn as sns\n",
        "import matplotlib.pyplot as plt"
      ],
      "execution_count": 10,
      "outputs": []
    },
    {
      "cell_type": "code",
      "metadata": {
        "colab_type": "code",
        "id": "lbgXqQLZpAhR",
        "colab": {}
      },
      "source": [
        "sns.set(style=\"whitegrid\")\n",
        "results_dir = '../results'"
      ],
      "execution_count": 11,
      "outputs": []
    },
    {
      "cell_type": "code",
      "metadata": {
        "colab_type": "code",
        "id": "5kI8OZunpE4i",
        "colab": {}
      },
      "source": [
        "with open(os.path.join(results_dir, 'result.json')) as f:\n",
        "  # load the data\n",
        "  data = json.loads(f.read())\n",
        "  client_side_data = data[\"lineitem\"][\"client\"]\n",
        "    \n",
        "  # prepare the numpy array\n",
        "  numpy_array_client_side = []\n",
        "  for key, value in client_side_data.items():\n",
        "    points = value.split(\",\")\n",
        "    for point in points:\n",
        "      numpy_array_client_side.append([key, point])\n",
        "\n",
        "# convert to dataframes\n",
        "df_client_side = pd.DataFrame(np.array(numpy_array_client_side), columns=['selectivity', 'duration'])\n",
        "df_client_side[['duration']] = df_client_side[['duration']].apply(pd.to_numeric)"
      ],
      "execution_count": 12,
      "outputs": []
    },
    {
      "cell_type": "code",
      "metadata": {
        "colab_type": "code",
        "id": "Midrp06ApQfg",
        "colab": {
          "base_uri": "https://localhost:8080/",
          "height": 285
        },
        "outputId": "feceea67-af4a-46ba-9ade-1f8097a580a3"
      },
      "source": [
        "# plot for client side\n",
        "ax = sns.barplot(x=\"selectivity\", y=\"duration\", data=df_client_side)\n",
        "ax.figure.savefig(os.path.join(results_dir, \"client_side.png\"), dpi=200)\n",
        "ax.figure.show()"
      ],
      "execution_count": 13,
      "outputs": [
        {
          "output_type": "display_data",
          "data": {
            "image/png": "[encoded data removed]",
            "text/plain": [
              "<Figure size 432x288 with 1 Axes>"
            ]
          },
          "metadata": {
            "tags": []
          }
        }
      ]
    },
    {
      "cell_type": "code",
      "metadata": {
        "id": "83C9cNRm-Afq",
        "colab_type": "code",
        "colab": {}
      },
      "source": [
        "with open(os.path.join(results_dir, 'result.json')) as f:\n",
        "  # load the data\n",
        "  data = json.loads(f.read())\n",
        "  storage_side_data = data[\"lineitem\"][\"storage\"]\n",
        "    \n",
        "  # prepare the numpy array\n",
        "  numpy_array_storage_side = []\n",
        "  for key, value in storage_side_data.items():\n",
        "    points = value.split(\",\")\n",
        "    for point in points:\n",
        "      numpy_array_storage_side.append([key, point])\n",
        "\n",
        "# convert to dataframes\n",
        "df_storage_side = pd.DataFrame(np.array(numpy_array_storage_side), columns=['selectivity', 'duration'])\n",
        "df_storage_side[['duration']] = df_storage_side[['duration']].apply(pd.to_numeric)"
      ],
      "execution_count": 14,
      "outputs": []
    },
    {
      "cell_type": "code",
      "metadata": {
        "id": "zcgmBmbl-PRa",
        "colab_type": "code",
        "colab": {
          "base_uri": "https://localhost:8080/",
          "height": 285
        },
        "outputId": "62e985c1-a730-4d34-f4fa-466bf03adfa2"
      },
      "source": [
        "# plot for storage side\n",
        "ax = sns.barplot(x=\"selectivity\", y=\"duration\", data=df_storage_side)\n",
        "ax.figure.savefig(os.path.join(results_dir, \"storage_side.png\"), dpi=200)\n",
        "ax.figure.show()"
      ],
      "execution_count": 15,
      "outputs": [
        {
          "output_type": "display_data",
          "data": {
            "image/png": "[encoded data removed]",
            "text/plain": [
              "<Figure size 432x288 with 1 Axes>"
            ]
          },
          "metadata": {
            "tags": []
          }
        }
      ]
    }
  ]
}