{
  "nbformat": 4,
  "nbformat_minor": 0,
  "metadata": {
    "colab": {
      "name": "plot.ipynb",
      "provenance": [],
      "collapsed_sections": []
    },
    "kernelspec": {
      "name": "python3",
      "display_name": "Python 3"
    }
  },
  "cells": [
    {
      "cell_type": "code",
      "metadata": {
        "id": "eyRxMLZ5o0Rb",
        "colab_type": "code",
        "colab": {}
      },
      "source": [
        "import json\n",
        "import os\n",
        "import datetime\n",
        "\n",
        "import numpy as np\n",
        "import pandas as pd\n",
        "import seaborn as sns\n",
        "import matplotlib.pyplot as plt"
      ],
      "execution_count": null,
      "outputs": []
    },
    {
      "cell_type": "code",
      "metadata": {
        "id": "lbgXqQLZpAhR",
        "colab_type": "code",
        "colab": {}
      },
      "source": [
        "sns.set(style=\"whitegrid\")\n",
        "results_dir = '../results'"
      ],
      "execution_count": null,
      "outputs": []
    },
    {
      "cell_type": "code",
      "metadata": {
        "id": "5kI8OZunpE4i",
        "colab_type": "code",
        "colab": {}
      },
      "source": [
        "with open(os.path.join(results_dir, 'result.json')) as f:\n",
        "  # load the data\n",
        "  data = json.loads(f.read())\n",
        "  client_side_data = data[\"lineitem\"][\"client\"]\n",
        "    \n",
        "  # prepare the numpy array\n",
        "  numpy_array_client_side = []\n",
        "  for key, value in client_side_data.items():\n",
        "    points = value.split(\",\")\n",
        "    for point in points:\n",
        "      numpy_array_client_side.append([key, point])\n",
        "\n",
        "# convert to dataframes\n",
        "df_client_side = pd.DataFrame(np.array(numpy_array_client_side), columns=['selectivity', 'duration'])\n",
        "df_client_side[['duration']] = df_client_side[['duration']].apply(pd.to_numeric) "
      ],
      "execution_count": null,
      "outputs": []
    },
    {
      "cell_type": "code",
      "metadata": {
        "id": "Midrp06ApQfg",
        "colab_type": "code",
        "colab": {}
      },
      "source": [
        "# plot for client side\n",
        "ax = sns.barplot(x=\"selectivity\", y=\"duration\", data=df_client_side)\n",
        "ax.figure.savefig(os.path.join(results_dir, \"lineitem_fbx_benchmarks_client_side.png\"), dpi=200)"
      ],
      "execution_count": null,
      "outputs": []
    }
  ]
}