{
 "cells": [
  {
   "cell_type": "code",
   "execution_count": 1,
   "metadata": {
    "colab": {},
    "colab_type": "code",
    "id": "eyRxMLZ5o0Rb"
   },
   "outputs": [],
   "source": [
    "import json\n",
    "import os\n",
    "import datetime\n",
    "\n",
    "# add datascience libraries\n",
    "import numpy as np\n",
    "import pandas as pd\n",
    "import seaborn as sns\n",
    "import matplotlib.pyplot as plt"
   ]
  },
  {
   "cell_type": "code",
   "execution_count": 2,
   "metadata": {
    "colab": {},
    "colab_type": "code",
    "id": "lbgXqQLZpAhR"
   },
   "outputs": [],
   "source": [
    "sns.set(style=\"whitegrid\")\n",
    "results_dir = '../results'"
   ]
  },
  {
   "cell_type": "code",
   "execution_count": 3,
   "metadata": {
    "colab": {},
    "colab_type": "code",
    "id": "5kI8OZunpE4i"
   },
   "outputs": [],
   "source": [
    "with open(os.path.join(results_dir, 'result.json')) as f:\n",
    "  # load the data\n",
    "  data = json.loads(f.read())\n",
    "  client_side_data = data[\"lineitem\"][\"client\"]\n",
    "    \n",
    "  # prepare the numpy array\n",
    "  numpy_array_client_side = []\n",
    "  for key, value in client_side_data.items():\n",
    "    points = value.split(\",\")\n",
    "    for point in points:\n",
    "      numpy_array_client_side.append([key, point])\n",
    "\n",
    "# convert to dataframes\n",
    "df_client_side = pd.DataFrame(np.array(numpy_array_client_side), columns=['selectivity', 'duration'])\n",
    "df_client_side[['duration']] = df_client_side[['duration']].apply(pd.to_numeric)"
   ]
  },
  {
   "cell_type": "code",
   "execution_count": 4,
   "metadata": {
    "colab": {
     "base_uri": "https://localhost:8080/",
     "height": 285
    },
    "colab_type": "code",
    "id": "Midrp06ApQfg",
    "outputId": "feceea67-af4a-46ba-9ade-1f8097a580a3"
   },
   "outputs": [
    {
     "data": {
      "image/png": "[encoded data removed]",
      "text/plain": [
       "<Figure size 432x288 with 1 Axes>"
      ]
     },
     "metadata": {},
     "output_type": "display_data"
    }
   ],
   "source": [
    "# plot for client side\n",
    "ax = sns.barplot(x=\"selectivity\", y=\"duration\", data=df_client_side)\n",
    "ax.figure.savefig(os.path.join(results_dir, \"client_side.png\"), dpi=200)\n",
    "ax.figure.show()"
   ]
  },
  {
   "cell_type": "code",
   "execution_count": 5,
   "metadata": {
    "colab": {},
    "colab_type": "code",
    "id": "83C9cNRm-Afq"
   },
   "outputs": [],
   "source": [
    "with open(os.path.join(results_dir, 'result.json')) as f:\n",
    "  # load the data\n",
    "  data = json.loads(f.read())\n",
    "  storage_side_data = data[\"lineitem\"][\"storage\"]\n",
    "    \n",
    "  # prepare the numpy array\n",
    "  numpy_array_storage_side = []\n",
    "  for key, value in storage_side_data.items():\n",
    "    points = value.split(\",\")\n",
    "    for point in points:\n",
    "      numpy_array_storage_side.append([key, point])\n",
    "\n",
    "# convert to dataframes\n",
    "df_storage_side = pd.DataFrame(np.array(numpy_array_storage_side), columns=['selectivity', 'duration'])\n",
    "df_storage_side[['duration']] = df_storage_side[['duration']].apply(pd.to_numeric)"
   ]
  },
  {
   "cell_type": "code",
   "execution_count": 6,
   "metadata": {
    "colab": {
     "base_uri": "https://localhost:8080/",
     "height": 285
    },
    "colab_type": "code",
    "id": "zcgmBmbl-PRa",
    "outputId": "62e985c1-a730-4d34-f4fa-466bf03adfa2"
   },
   "outputs": [
    {
     "data": {
      "image/png": "[encoded data removed]",
      "text/plain": [
       "<Figure size 432x288 with 1 Axes>"
      ]
     },
     "metadata": {},
     "output_type": "display_data"
    }
   ],
   "source": [
    "# plot for storage side\n",
    "ax = sns.barplot(x=\"selectivity\", y=\"duration\", data=df_storage_side)\n",
    "ax.figure.savefig(os.path.join(results_dir, \"storage_side.png\"), dpi=200)\n",
    "ax.figure.show()"
   ]
  }
 ],
 "metadata": {
  "colab": {
   "collapsed_sections": [],
   "name": "plot.nbconvert.ipynb",
   "provenance": []
  },
  "kernelspec": {
   "display_name": "Python 3",
   "name": "python3"
  },
  "language_info": {
   "codemirror_mode": {
    "name": "ipython",
    "version": 3
   },
   "file_extension": ".py",
   "mimetype": "text/x-python",
   "name": "python",
   "nbconvert_exporter": "python",
   "pygments_lexer": "ipython3",
   "version": "3.8.5"
  }
 },
 "nbformat": 4,
 "nbformat_minor": 0
}
